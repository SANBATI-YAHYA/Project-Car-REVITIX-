{
 "cells": [
  {
   "cell_type": "code",
   "execution_count": 1,
   "id": "7fdf1b72",
   "metadata": {},
   "outputs": [
    {
     "name": "stdout",
     "output_type": "stream",
     "text": [
      "✅ تم دمج الملفات وحفظها في: C:\\Users\\sanba\\Desktop\\Me\\cmc\\PROJET\\PFE\\MODEL\\data_final_nodeling.csv\n"
     ]
    }
   ],
   "source": [
    "import pandas as pd\n",
    "import os\n",
    "\n",
    "# مسار الملفات\n",
    "base_path = r\"C:\\Users\\sanba\\Desktop\\Me\\cmc\\PROJET\\PFE\\MODEL\"\n",
    "\n",
    "# إنشاء لائحة بأسماء الملفات\n",
    "file_names = [f\"output_chunk_{i}.csv\" for i in range(10)]  # من 0 حتى 9\n",
    "file_paths = [os.path.join(base_path, name) for name in file_names]\n",
    "\n",
    "# قراءة ودمج الملفات\n",
    "df_list = [pd.read_csv(fp) for fp in file_paths]\n",
    "merged_df = pd.concat(df_list, ignore_index=True)\n",
    "\n",
    "# حفظ الملف المدموج\n",
    "output_path = os.path.join(base_path, \"data_final_nodeling.csv\")\n",
    "merged_df.to_csv(output_path, index=False)\n",
    "\n",
    "print(\"✅ تم دمج الملفات وحفظها في:\", output_path)\n"
   ]
  },
  {
   "cell_type": "code",
   "execution_count": null,
   "id": "d89cd701",
   "metadata": {},
   "outputs": [],
   "source": []
  }
 ],
 "metadata": {
  "kernelspec": {
   "display_name": "Python 3",
   "language": "python",
   "name": "python3"
  },
  "language_info": {
   "codemirror_mode": {
    "name": "ipython",
    "version": 3
   },
   "file_extension": ".py",
   "mimetype": "text/x-python",
   "name": "python",
   "nbconvert_exporter": "python",
   "pygments_lexer": "ipython3",
   "version": "3.9.13"
  }
 },
 "nbformat": 4,
 "nbformat_minor": 5
}
